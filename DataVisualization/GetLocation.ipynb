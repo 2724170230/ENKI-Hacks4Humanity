{
 "cells": [
  {
   "cell_type": "code",
   "execution_count": 25,
   "id": "a7566b7e",
   "metadata": {},
   "outputs": [],
   "source": [
    "import http.client, urllib.parse\n",
    "import json"
   ]
  },
  {
   "cell_type": "code",
   "execution_count": 39,
   "id": "9c17f019",
   "metadata": {
    "scrolled": true
   },
   "outputs": [
    {
     "name": "stdout",
     "output_type": "stream",
     "text": [
      "Warangal, Telangana\n"
     ]
    }
   ],
   "source": [
    "conn = http.client.HTTPConnection('geocode.xyz')\n",
    "\n",
    "params = urllib.parse.urlencode({\n",
    "    'auth': '799420268657749787480x268',\n",
    "    'locate': '18.12312, 80.2312312',\n",
    "    'region': 'IN',\n",
    "    'json': 1,\n",
    "    })\n",
    "conn.request('GET', '/?{}'.format(params))\n",
    "\n",
    "res = conn.getresponse()\n",
    "data = res.read()\n",
    "\n",
    "data = data.decode()\n",
    "data = json.loads(data)\n",
    "\n",
    "region = data[\"region\"]\n",
    "print(region)"
   ]
  },
  {
   "cell_type": "code",
   "execution_count": 29,
   "id": "96d84b1a",
   "metadata": {},
   "outputs": [
    {
     "name": "stdout",
     "output_type": "stream",
     "text": [
      "<class 'http.client.HTTPResponse'>\n",
      "{   \"distance\" : \"23.319\",   \"elevation\" : \"8\",   \"osmtags\" : {      \"wikipedia\" : \"en:Prakasam district\",      \"wikidata\" : \"Q15390\",      \"name\" : \"Prakasam District\",      \"name_te\" : \"ప్రకాశం జిల్లా\",      \"admin_level\" : \"5\",      \"name_kn\" : \"ಪ್ರಕಾಶಂ\",      \"boundary\" : \"administrative\",      \"type\" : \"boundary\"   },   \"latt\" : \"15.27616\",   \"city\" : \"Pattapupalem\",   \"prov\" : \"IN\",   \"geocode\" : \"YANAD-YIGGL\",   \"stnumber\" : {},   \"staddress\" : {},   \"geonumber\" : \"8338028110527\",   \"inlatt\" : \"15.12312\",   \"timezone\" : \"Asia/Kolkata\",   \"region\" : \"Prakasam, Andhra Pradesh\",   \"postal\" : {},   \"longt\" : \"80.08264\",   \"remaining_credits\" : \"-16\",   \"inlongt\" : \"80.23123\",   \"adminareas\" : {      \"admin5\" : {         \"wikipedia\" : \"en:Prakasam district\",         \"wikidata\" : \"Q15390\",         \"name\" : \"Prakasam District\",         \"name_te\" : \"ప్రకాశం జిల్లా\",         \"admin_level\" : \"5\",         \"level\" : \"5\",         \"name_kn\" : \"ಪ್ರಕಾಶಂ\",         \"boundary\" : \"administrative\",         \"type\" : \"boundary\"      }   },   \"altgeocode\" : \"PATTLEM-YIGGL\"}\n"
     ]
    }
   ],
   "source": [
    "conn = http.client.HTTPConnection('geocode.xyz')\n",
    "\n",
    "params = urllib.parse.urlencode({\n",
    "    'auth': '799420268657749787480x268',\n",
    "    'locate': '15.12312, 80.2312312',\n",
    "    'region': 'IN',\n",
    "    'json': 1,\n",
    "    })\n",
    "\n",
    "conn.request('GET', '/?{}'.format(params))\n",
    "\n",
    "res = conn.getresponse()\n",
    "data = res.read()\n",
    "\n",
    "district = data.decode('utf-8')\n",
    "print(district)"
   ]
  },
  {
   "cell_type": "code",
   "execution_count": 18,
   "id": "59014045",
   "metadata": {},
   "outputs": [
    {
     "name": "stdout",
     "output_type": "stream",
     "text": [
      "{   \"statename\" : {},   \"distance\" : \"0.138\",   \"elevation\" : \"652\",   \"osmtags\" : {      \"name_kn\" : \"ಶಿಗ್ಗಾವಿ ತಾಲೂಕು\",      \"boundary\" : \"administrative\",      \"name\" : \"Shiggaon taluk\",      \"type\" : \"boundary\",      \"admin_level\" : \"6\"   },   \"state\" : \"Karnataka\",   \"latt\" : \"15.12400\",   \"city\" : \"Kubihal\",   \"prov\" : \"IN\",   \"geocode\" : \"HUBLI-VOITR\",   \"geonumber\" : \"8339369442239\",   \"country\" : \"India\",   \"stnumber\" : {},   \"staddress\" : \"SH137\",   \"inlatt\" : \"15.12312\",   \"alt\" : {},   \"timezone\" : \"Asia/Kolkata\",   \"region\" : \"Dharwad, Karnataka\",   \"postal\" : \"581207\",   \"poi\" : {      \"addr_state\" : \"Karnataka\",      \"poilat\" : \"15.12228\",      \"religion\" : \"muslim\",      \"name\" : \"Jamiya Masjid\",      \"amenity\" : \"place_of_worship\",      \"addr_full\" : \"masjid Galli Ingalagi, tq, Kundgol, Karnataka\",      \"poilon\" : \"75.2352\",      \"id\" : \"8196834549\",      \"poidist\" : \"0.436\"   },   \"longt\" : \"75.23213\",   \"remaining_credits\" : \"-7\",   \"confidence\" : \"0.9\",   \"inlongt\" : \"75.23123\",   \"class\" : \"primary\",   \"adminareas\" : {      \"admin6\" : {         \"name_kn\" : \"ಶಿಗ್ಗಾವಿ ತಾಲೂಕು\",         \"level\" : \"6\",         \"boundary\" : \"administrative\",         \"name\" : \"Shiggaon taluk\",         \"type\" : \"boundary\",         \"admin_level\" : \"6\"      },      \"admin5\" : {         \"wikipedia\" : \"en:Dharwad district\",         \"wikidata\" : \"Q1790904\",         \"name\" : \"Dharwad district\",         \"admin_level\" : \"5\",         \"level\" : \"5\",         \"name_kn\" : \"ಧಾರವಾಡ ಜಿಲ್ಲೆ\",         \"boundary\" : \"administrative\",         \"type\" : \"boundary\"      }   },   \"altgeocode\" : \"INGALGI-VOITR\"}\n"
     ]
    }
   ],
   "source": [
    "conn = http.client.HTTPConnection('geocode.xyz')\n",
    "\n",
    "params = urllib.parse.urlencode({\n",
    "    'auth': '799420268657749787480x268',\n",
    "    'locate': '15.12312, 75.2312312',\n",
    "    'region': 'IN',\n",
    "    'json': 1,\n",
    "    })\n",
    "\n",
    "conn.request('GET', '/?{}'.format(params))\n",
    "\n",
    "res = conn.getresponse()\n",
    "data = res.read()\n",
    "\n",
    "district = data.decode('utf-8')\n",
    "print(district)"
   ]
  },
  {
   "cell_type": "code",
   "execution_count": null,
   "id": "e726bbbf",
   "metadata": {},
   "outputs": [],
   "source": []
  }
 ],
 "metadata": {
  "kernelspec": {
   "display_name": "Python 3",
   "language": "python",
   "name": "python3"
  },
  "language_info": {
   "codemirror_mode": {
    "name": "ipython",
    "version": 3
   },
   "file_extension": ".py",
   "mimetype": "text/x-python",
   "name": "python",
   "nbconvert_exporter": "python",
   "pygments_lexer": "ipython3",
   "version": "3.8.8"
  }
 },
 "nbformat": 4,
 "nbformat_minor": 5
}
